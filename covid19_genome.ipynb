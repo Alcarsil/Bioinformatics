{
 "cells": [
  {
   "cell_type": "markdown",
   "metadata": {},
   "source": [
    "# BIOINFORMATICS - JUPYTER NOTEBOOK, PYTHON 3\n",
    "\n",
    "    author: Sandro Silva @alcarsil (Twitter)\n",
    "\n"
   ]
  },
  {
   "cell_type": "markdown",
   "metadata": {},
   "source": [
    "Covid19 Genome data: https://github.com/jweinst1/ncov2019-analyzer/blob/master/data/COVID-19-genome.txt\n",
    "https://www.ncbi.nlm.nih.gov/nuccore/NC_045512"
   ]
  },
  {
   "cell_type": "markdown",
   "metadata": {},
   "source": [
    "## Look at the data:"
   ]
  },
  {
   "cell_type": "code",
   "execution_count": 2,
   "metadata": {},
   "outputs": [
    {
     "name": "stdout",
     "output_type": "stream",
     "text": [
      "attaaaggtttataccttcccaggtaacaaaccaaccaactttcgatctcttgtagatctgttctctaaacgaactttaaaatctgtgtggctgtcactcggctgcatgcttagtgcactcacgcagtataattaataactaattactgtcgttgacaggacacgagtaactcgtctatcttctgcaggctgcttacggtttcgtccgtgttgcagccgatcatcagcacatctaggtttcgtccgggtgtgaccgaaaggtaagatggagagccttgtccctggtttcaacgagaaaacacacgtccaactcagtttgcctgttttacaggttcgcgacgtgctcgtacgtggctttggagactccgtggaggaggtcttatcagaggcacgtcaacatcttaaagatggcacttgtggcttagtagaagttgaaaaaggcgttttgcctcaacttgaacagccctatgtgttcatcaaacgttcggatgctcgaactgcacctcatggtcatgttatggttgagctggtagcagaactcgaaggcattcagtacggtcgtagtggtgagacacttggtgtccttgtccctcatgtgggcgaaataccagtggcttaccgcaaggttcttcttcgtaagaacggtaataaaggagctggtggccatagttacggcgccgatctaaagtcatttgacttaggcgacgagcttggcactgatccttatgaagattttcaagaaaactggaacactaaacatagcagtggtgttacccgtgaactcatgcgtgagcttaacggaggggcatacactcgctatgtcgataacaacttctgtggccctgatggctaccctcttgagtgcattaaagaccttctagcacgtgctggtaaagcttcatgcactttgtccgaacaactggactttattgacactaagaggggtgtatactgctgccgtgaacatgagcatgaaattgcttggtacacggaacgttctgaaaagagctatgaattgcagacaccttttgaaattaaattggcaaagaaatttgacaccttcaatggggaatgtccaaattttgtatttcccttaaattccataatcaagactattcaaccaagggttgaaaagaaaaagcttgatggctttatgggtagaattcgatctgtctatccagttgcgtcaccaaatgaatgcaaccaaatgtgcctttcaactctcatgaagtgtgatcattgtggtgaaacttcatggcagacgggcgattttgttaaagccacttgcgaattttgtggcactgagaatttgactaaagaaggtgccactacttgtggttacttaccccaaaatgctgttgttaaaatttattgtccagcatgtcacaattcagaagtaggacctgagcatagtcttgccgaataccataatgaatctggcttgaaaaccattcttcgtaagggtggtcgcactattgcctttggaggctgtgtgttctcttatgttggttgccataacaagtgtgcctattgggttccacgtgctagcgctaacataggttgtaaccatacaggtgttgttggagaaggttccgaaggtcttaatgacaaccttcttgaaatactccaaaaagagaaagtcaacatcaatattgttggtgactttaaacttaatgaagagatcgccattattttggcatctttttctgcttccacaagtgcttttgtggaaactgtgaaaggtttggattataaagcattcaaacaaattgttgaatcctgtggtaattttaaagttacaaaaggaaaagctaaaaaaggtgcctggaatattggtgaacagaaatcaatactgagtcctctttatgcatttgcatcagaggctgctcgtgttgtacgatcaattttctcccgcactcttgaaactgctcaaaattctgtgcgtgttttacagaaggccgctataacaatactagatggaatttcacagtattcactgagactcattgatgctatgatgttcacatctgatttggctactaacaatctagttgtaatggcctacattacaggtggtgttgttcagttgacttcgcagtggctaactaacatctttggcactgtttatgaaaaactcaaacccgtccttgattggcttgaagagaagtttaaggaaggtgtagagtttcttagagacggttgggaaattgttaaatttatctcaacctgtgcttgtgaaattgtcggtggacaaattgtcacctgtgcaaaggaaattaaggagagtgttcagacattctttaagcttgtaaataaatttttggctttgtgtgctgactctatcattattggtggagctaaacttaaagccttgaatttaggtgaaacatttgtcacgcactcaaagggattgtacagaaagtgtgttaaatccagagaagaaactggcctactcatgcctctaaaagccccaaaagaaattatcttcttagagggagaaacacttcccacagaagtgttaacagaggaagttgtcttgaaaactggtgatttacaaccattagaacaacctactagtgaagctgttgaagctccattggttggtacaccagtttgtattaacgggcttatgttgctcgaaatcaaagacacagaaaagtactgtgcccttgcacctaatatgatggtaacaaacaataccttcacactcaaaggcggtgcaccaacaaaggttacttttggtgatgacactgtgatagaagtgcaaggttacaagagtgtgaatatcacttttgaacttgatgaaaggattgataaagtacttaatgagaagtgctctgcctatacagttgaactcggtacagaagtaaatgagttcgcctgtgttgtggcagatgctgtcataaaaactttgcaaccagtatctgaattacttacaccactgggcattgatttagatgagtggagtatggctacatactacttatttgatgagtctggtgagtttaaattggcttcacatatgtattgttctttctaccctccagatgaggatgaagaagaaggtgattgtgaagaagaagagtttgagccatcaactcaatatgagtatggtactgaagatgattaccaaggtaaacctttggaatttggtgccacttctgctgctcttcaacctgaagaagagcaagaagaagattggttagatgatgatagtcaacaaactgttggtcaacaagacggcagtgaggacaatcagacaactactattcaaacaattgttgaggttcaacctcaattagagatggaacttacaccagttgttcagactattgaagtgaatagttttagtggttatttaaaacttactgacaatgtatacattaaaaatgcagacattgtggaagaagctaaaaaggtaaaaccaacagtggttgttaatgcagccaatgtttaccttaaacatggaggaggtgttgcaggagccttaaataaggctactaacaatgccatgcaagttgaatctgatgattacatagctactaatggaccacttaaagtgggtggtagttgtgttttaagcggacacaatcttgctaaacactgtcttcatgttgtcggcccaaatgttaacaaaggtgaagacattcaacttcttaagagtgcttatgaaaattttaatcagcacgaagttctacttgcaccattattatcagctggtatttttggtgctgaccctatacattctttaagagtttgtgtagatactgttcgcacaaatgtctacttagctgtctttgataaaaatctctatgacaaacttgtttcaagctttttggaaatgaagagtgaaaagcaagttgaacaaaagatcgctgagattcctaaagaggaagttaagccatttataactgaaagtaaaccttcagttgaacagagaaaacaagatgataagaaaatcaaagcttgtgttgaagaagttacaacaactctggaagaaactaagttcctcacagaaaacttgttactttatattgacattaatggcaatcttcatccagattctgccactcttgttagtgacattgacatcactttcttaaagaaagatgctccatatatagtgggtgatgttgttcaagagggtgttttaactgctgtggttatacctactaaaaaggctggtggcactactgaaatgctagcgaaagctttgagaaaagtgccaacagacaattatataaccacttacccgggtcagggtttaaatggttacactgtagaggaggcaaagacagtgcttaaaaagtgtaaaagtgccttttacattctaccatctattatctctaatgagaagcaagaaattcttggaactgtttcttggaatttgcgagaaatgcttgcacatgcagaagaaacacgcaaattaatgcctgtctgtgtggaaactaaagccatagtttcaactatacagcgtaaatataagggtattaaaatacaagagggtgtggttgattatggtgctagattttacttttacaccagtaaaacaactgtagcgtcacttatcaacacacttaacgatctaaatgaaactcttgttacaatgccacttggctatgtaacacatggcttaaatttggaagaagctgctcggtatatgagatctctcaaagtgccagctacagtttctgtttcttcacctgatgctgttacagcgtataatggttatcttacttcttcttctaaaacacctgaagaacattttattgaaaccatctcacttgctggttcctataaagattggtcctattctggacaatctacacaactaggtatagaatttcttaagagaggtgataaaagtgtatattacactagtaatcctaccacattccacctagatggtgaagttatcacctttgacaatcttaagacacttctttctttgagagaagtgaggactattaaggtgtttacaacagtagacaacattaacctccacacgcaagttgtggacatgtcaatgacatatggacaacagtttggtccaacttatttggatggagctgatgttactaaaataaaacctcataattcacatgaaggtaaaacattttatgttttacctaatgatgacactctacgtgttgaggcttttgagtactaccacacaactgatcctagttttctgggtaggtacatgtcagcattaaatcacactaaaaagtggaaatacccacaagttaatggtttaacttctattaaatgggcagataacaactgttatcttgccactgcattgttaacactccaacaaatagagttgaagtttaatccacctgctctacaagatgcttattacagagcaagggctggtgaagctgctaacttttgtgcacttatcttagcctactgtaataagacagtaggtgagttaggtgatgttagagaaacaatgagttacttgtttcaacatgccaatttagattcttgcaaaagagtcttgaacgtggtgtgtaaaacttgtggacaacagcagacaacccttaagggtgtagaagctgttatgtacatgggcacactttcttatgaacaatttaagaaaggtgttcagataccttgtacgtgtggtaaacaagctacaaaatatctagtacaacaggagtcaccttttgttatgatgtcagcaccacctgctcagtatgaacttaagcatggtacatttacttgtgctagtgagtacactggtaattaccagtgtggtcactataaacatataacttctaaagaaactttgtattgcatagacggtgctttacttacaaagtcctcagaatacaaaggtcctattacggatgttttctacaaagaaaacagttacacaacaaccataaaaccagttacttataaattggatggtgttgtttgtacagaaattgaccctaagttggacaattattataagaaagacaattcttatttcacagagcaaccaattgatcttgtaccaaaccaaccatatccaaacgcaagcttcgataattttaagtttgtatgtgataatatcaaatttgctgatgatttaaaccagttaactggttataagaaacctgcttcaagagagcttaaagttacatttttccctgacttaaatggtgatgtggtggctattgattataaacactacacaccctcttttaagaaaggagctaaattgttacataaacctattgtttggcatgttaacaatgcaactaataaagccacgtataaaccaaatacctggtgtatacgttgtctttggagcacaaaaccagttgaaacatcaaattcgtttgatgtactgaagtcagaggacgcgcagggaatggataatcttgcctgcgaagatctaaaaccagtctctgaagaagtagtggaaaatcctaccatacagaaagacgttcttgagtgtaatgtgaaaactaccgaagttgtaggagacattatacttaaaccagcaaataatagtttaaaaattacagaagaggttggccacacagatctaatggctgcttatgtagacaattctagtcttactattaagaaacctaatgaattatctagagtattaggtttgaaaacccttgctactcatggtttagctgctgttaatagtgtcccttgggatactatagctaattatgctaagccttttcttaacaaagttgttagtacaactactaacatagttacacggtgtttaaaccgtgtttgtactaattatatgccttatttctttactttattgctacaattgtgtacttttactagaagtacaaattctagaattaaagcatctatgccgactactatagcaaagaatactgttaagagtgtcggtaaattttgtctagaggcttcatttaattatttgaagtcacctaatttttctaaactgataaatattataatttggtttttactattaagtgtttgcctaggttctttaatctactcaaccgctgctttaggtgttttaatgtctaatttaggcatgccttcttactgtactggttacagagaaggctatttgaactctactaatgtcactattgcaacctactgtactggttctataccttgtagtgtttgtcttagtggtttagattctttagacacctatccttctttagaaactatacaaattaccatttcatcttttaaatgggatttaactgcttttggcttagttgcagagtggtttttggcatatattcttttcactaggtttttctatgtacttggattggctgcaatcatgcaattgtttttcagctattttgcagtacattttattagtaattcttggcttatgtggttaataattaatcttgtacaaatggccccgatttcagctatggttagaatgtacatcttctttgcatcattttattatgtatggaaaagttatgtgcatgttgtagacggttgtaattcatcaacttgtatgatgtgttacaaacgtaatagagcaacaagagtcgaatgtacaactattgttaatggtgttagaaggtccttttatgtctatgctaatggaggtaaaggcttttgcaaactacacaattggaattgtgttaattgtgatacattctgtgctggtagtacatttattagtgatgaagttgcgagagacttgtcactacagtttaaaagaccaataaatcctactgaccagtcttcttacatcgttgatagtgttacagtgaagaatggttccatccatctttactttgataaagctggtcaaaagacttatgaaagacattctctctctcattttgttaacttagacaacctgagagctaataacactaaaggttcattgcctattaatgttatagtttttgatggtaaatcaaaatgtgaagaatcatctgcaaaatcagcgtctgtttactacagtcagcttatgtgtcaacctatactgttactagatcaggcattagtgtctgatgttggtgatagtgcggaagttgcagttaaaatgtttgatgcttacgttaatacgttttcatcaacttttaacgtaccaatggaaaaactcaaaacactagttgcaactgcagaagctgaacttgcaaagaatgtgtccttagacaatgtcttatctacttttatttcagcagctcggcaagggtttgttgattcagatgtagaaactaaagatgttgttgaatgtcttaaattgtcacatcaatctgacatagaagttactggcgatagttgtaataactatatgctcacctataacaaagttgaaaacatgacaccccgtgaccttggtgcttgtattgactgtagtgcgcgtcatattaatgcgcaggtagcaaaaagtcacaacattgctttgatatggaacgttaaagatttcatgtcattgtctgaacaactacgaaaacaaatacgtagtgctgctaaaaagaataacttaccttttaagttgacatgtgcaactactagacaagttgttaatgttgtaacaacaaagatagcacttaagggtggtaaaattgttaataattggttgaagcagttaattaaagttacacttgtgttcctttttgttgctgctattttctatttaataacacctgttcatgtcatgtctaaacatactgacttttcaagtgaaatcataggatacaaggctattgatggtggtgtcactcgtgacatagcatctacagatacttgttttgctaacaaacatgctgattttgacacatggtttagccagcgtggtggtagttatactaatgacaaagcttgcccattgattgctgcagtcataacaagagaagtgggttttgtcgtgcctggtttgcctggcacgatattacgcacaactaatggtgactttttgcatttcttacctagagtttttagtgcagttggtaacatctgttacacaccatcaaaacttatagagtacactgactttgcaacatcagcttgtgttttggctgctgaatgtacaatttttaaagatgcttctggtaagccagtaccatattgttatgataccaatgtactagaaggttctgttgcttatgaaagtttacgccctgacacacgttatgtgctcatggatggctctattattcaatttcctaacacctaccttgaaggttctgttagagtggtaacaacttttgattctgagtactgtaggcacggcacttgtgaaagatcagaagctggtgtttgtgtatctactagtggtagatgggtacttaacaatgattattacagatctttaccaggagttttctgtggtgtagatgctgtaaatttacttactaatatgtttacaccactaattcaacctattggtgctttggacatatcagcatctatagtagctggtggtattgtagctatcgtagtaacatgccttgcctactattttatgaggtttagaagagcttttggtgaatacagtcatgtagttgcctttaatactttactattccttatgtcattcactgtactctgtttaacaccagtttactcattcttacctggtgtttattctgttatttacttgtacttgacattttatcttactaatgatgtttcttttttagcacatattcagtggatggttatgttcacacctttagtacctttctggataacaattgcttatatcatttgtatttccacaaagcatttctattggttctttagtaattacctaaagagacgtgtagtctttaatggtgtttcctttagtacttttgaagaagctgcgctgtgcacctttttgttaaataaagaaatgtatctaaagttgcgtagtgatgtgctattacctcttacgcaatataatagatacttagctctttataataagtacaagtattttagtggagcaatggatacaactagctacagagaagctgcttgttgtcatctcgcaaaggctctcaatgacttcagtaactcaggttctgatgttctttaccaaccaccacaaacctctatcacctcagctgttttgcagagtggttttagaaaaatggcattcccatctggtaaagttgagggttgtatggtacaagtaacttgtggtacaactacacttaacggtctttggcttgatgacgtagtttactgtccaagacatgtgatctgcacctctgaagacatgcttaaccctaattatgaagatttactcattcgtaagtctaatcataatttcttggtacaggctggtaatgttcaactcagggttattggacattctatgcaaaattgtgtacttaagcttaaggttgatacagccaatcctaagacacctaagtataagtttgttcgcattcaaccaggacagactttttcagtgttagcttgttacaatggttcaccatctggtgtttaccaatgtgctatgaggcccaatttcactattaagggttcattccttaatggttcatgtggtagtgttggttttaacatagattatgactgtgtctctttttgttacatgcaccatatggaattaccaactggagttcatgctggcacagacttagaaggtaacttttatggaccttttgttgacaggcaaacagcacaagcagctggtacggacacaactattacagttaatgttttagcttggttgtacgctgctgttataaatggagacaggtggtttctcaatcgatttaccacaactcttaatgactttaaccttgtggctatgaagtacaattatgaacctctaacacaagaccatgttgacatactaggacctctttctgctcaaactggaattgccgttttagatatgtgtgcttcattaaaagaattactgcaaaatggtatgaatggacgtaccatattgggtagtgctttattagaagatgaatttacaccttttgatgttgttagacaatgctcaggtgttactttccaaagtgcagtgaaaagaacaatcaagggtacacaccactggttgttactcacaattttgacttcacttttagttttagtccagagtactcaatggtctttgttcttttttttgtatgaaaatgcctttttaccttttgctatgggtattattgctatgtctgcttttgcaatgatgtttgtcaaacataagcatgcatttctctgtttgtttttgttaccttctcttgccactgtagcttattttaatatggtctatatgcctgctagttgggtgatgcgtattatgacatggttggatatggttgatactagtttgtctggttttaagctaaaagactgtgttatgtatgcatcagctgtagtgttactaatccttatgacagcaagaactgtgtatgatgatggtgctaggagagtgtggacacttatgaatgtcttgacactcgtttataaagtttattatggtaatgctttagatcaagccatttccatgtgggctcttataatctctgttacttctaactactcaggtgtagttacaactgtcatgtttttggccagaggtattgtttttatgtgtgttgagtattgccctattttcttcataactggtaatacacttcagtgtataatgctagtttattgtttcttaggctatttttgtacttgttactttggcctcttttgtttactcaaccgctactttagactgactcttggtgtttatgattacttagtttctacacaggagtttagatatatgaattcacagggactactcccacccaagaatagcatagatgccttcaaactcaacattaaattgttgggtgttggtggcaaaccttgtatcaaagtagccactgtacagtctaaaatgtcagatgtaaagtgcacatcagtagtcttactctcagttttgcaacaactcagagtagaatcatcatctaaattgtgggctcaatgtgtccagttacacaatgacattctcttagctaaagatactactgaagcctttgaaaaaatggtttcactactttctgttttgctttccatgcagggtgctgtagacataaacaagctttgtgaagaaatgctggacaacagggcaaccttacaagctatagcctcagagtttagttcccttccatcatatgcagcttttgctactgctcaagaagcttatgagcaggctgttgctaatggtgattctgaagttgttcttaaaaagttgaagaagtctttgaatgtggctaaatctgaatttgaccgtgatgcagccatgcaacgtaagttggaaaagatggctgatcaagctatgacccaaatgtataaacaggctagatctgaggacaagagggcaaaagttactagtgctatgcagacaatgcttttcactatgcttagaaagttggataatgatgcactcaacaacattatcaacaatgcaagagatggttgtgttcccttgaacataatacctcttacaacagcagccaaactaatggttgtcataccagactataacacatataaaaatacgtgtgatggtacaacatttacttatgcatcagcattgtgggaaatccaacaggttgtagatgcagatagtaaaattgttcaacttagtgaaattagtatggacaattcacctaatttagcatggcctcttattgtaacagctttaagggccaattctgctgtcaaattacagaataatgagcttagtcctgttgcactacgacagatgtcttgtgctgccggtactacacaaactgcttgcactgatgacaatgcgttagcttactacaacacaacaaagggaggtaggtttgtacttgcactgttatccgatttacaggatttgaaatgggctagattccctaagagtgatggaactggtactatctatacagaactggaaccaccttgtaggtttgttacagacacacctaaaggtcctaaagtgaagtatttatactttattaaaggattaaacaacctaaatagaggtatggtacttggtagtttagctgccacagtacgtctacaagctggtaatgcaacagaagtgcctgccaattcaactgtattatctttctgtgcttttgctgtagatgctgctaaagcttacaaagattatctagctagtgggggacaaccaatcactaattgtgttaagatgttgtgtacacacactggtactggtcaggcaataacagttacaccggaagccaatatggatcaagaatcctttggtggtgcatcgtgttgtctgtactgccgttgccacatagatcatccaaatcctaaaggattttgtgacttaaaaggtaagtatgtacaaatacctacaacttgtgctaatgaccctgtgggttttacacttaaaaacacagtctgtaccgtctgcggtatgtggaaaggttatggctgtagttgtgatcaactccgcgaacccatgcttcagtcagctgatgcacaatcgtttttaaacgggtttgcggtgtaagtgcagcccgtcttacaccgtgcggcacaggcactagtactgatgtcgtatacagggcttttgacatctacaatgataaagtagctggttttgctaaattcctaaaaactaattgttgtcgcttccaagaaaaggacgaagatgacaatttaattgattcttactttgtagttaagagacacactttctctaactaccaacatgaagaaacaatttataatttacttaaggattgtccagctgttgctaaacatgacttctttaagtttagaatagacggtgacatggtaccacatatatcacgtcaacgtcttactaaatacacaatggcagacctcgtctatgctttaaggcattttgatgaaggtaattgtgacacattaaaagaaatacttgtcacatacaattgttgtgatgatgattatttcaataaaaaggactggtatgattttgtagaaaacccagatatattacgcgtatacgccaacttaggtgaacgtgtacgccaagctttgttaaaaacagtacaattctgtgatgccatgcgaaatgctggtattgttggtgtactgacattagataatcaagatctcaatggtaactggtatgatttcggtgatttcatacaaaccacgccaggtagtggagttcctgttgtagattcttattattcattgttaatgcctatattaaccttgaccagggctttaactgcagagtcacatgttgacactgacttaacaaagccttacattaagtgggatttgttaaaatatgacttcacggaagagaggttaaaactctttgaccgttattttaaatattgggatcagacataccacccaaattgtgttaactgtttggatgacagatgcattctgcattgtgcaaactttaatgttttattctctacagtgttcccacctacaagttttggaccactagtgagaaaaatatttgttgatggtgttccatttgtagtttcaactggataccacttcagagagctaggtgttgtacataatcaggatgtaaacttacatagctctagacttagttttaaggaattacttgtgtatgctgctgaccctgctatgcacgctgcttctggtaatctattactagataaacgcactacgtgcttttcagtagctgcacttactaacaatgttgcttttcaaactgtcaaacccggtaattttaacaaagacttctatgactttgctgtgtctaagggtttctttaaggaaggaagttctgttgaattaaaacacttcttctttgctcaggatggtaatgctgctatcagcgattatgactactatcgttataatctaccaacaatgtgtgatatcagacaactactatttgtagttgaagttgttgataagtactttgattgttacgatggtggctgtattaatgctaaccaagtcatcgtcaacaacctagacaaatcagctggttttccatttaataaatggggtaaggctagactttattatgattcaatgagttatgaggatcaagatgcacttttcgcatatacaaaacgtaatgtcatccctactataactcaaatgaatcttaagtatgccattagtgcaaagaatagagctcgcaccgtagctggtgtctctatctgtagtactatgaccaatagacagtttcatcaaaaattattgaaatcaatagccgccactagaggagctactgtagtaattggaacaagcaaattctatggtggttggcacaacatgttaaaaactgtttatagtgatgtagaaaaccctcaccttatgggttgggattatcctaaatgtgatagagccatgcctaacatgcttagaattatggcctcacttgttcttgctcgcaaacatacaacgtgttgtagcttgtcacaccgtttctatagattagctaatgagtgtgctcaagtattgagtgaaatggtcatgtgtggcggttcactatatgttaaaccaggtggaacctcatcaggagatgccacaactgcttatgctaatagtgtttttaacatttgtcaagctgtcacggccaatgttaatgcacttttatctactgatggtaacaaaattgccgataagtatgtccgcaatttacaacacagactttatgagtgtctctatagaaatagagatgttgacacagactttgtgaatgagttttacgcatatttgcgtaaacatttctcaatgatgatactctctgacgatgctgttgtgtgtttcaatagcacttatgcatctcaaggtctagtggctagcataaagaactttaagtcagttctttattatcaaaacaatgtttttatgtctgaagcaaaatgttggactgagactgaccttactaaaggacctcatgaattttgctctcaacatacaatgctagttaaacagggtgatgattatgtgtaccttccttacccagatccatcaagaatcctaggggccggctgttttgtagatgatatcgtaaaaacagatggtacacttatgattgaacggttcgtgtctttagctatagatgcttacccacttactaaacatcctaatcaggagtatgctgatgtctttcatttgtacttacaatacataagaaagctacatgatgagttaacaggacacatgttagacatgtattctgttatgcttactaatgataacacttcaaggtattgggaacctgagttttatgaggctatgtacacaccgcatacagtcttacaggctgttggggcttgtgttctttgcaattcacagacttcattaagatgtggtgcttgcatacgtagaccattcttatgttgtaaatgctgttacgaccatgtcatatcaacatcacataaattagtcttgtctgttaatccgtatgtttgcaatgctccaggttgtgatgtcacagatgtgactcaactttacttaggaggtatgagctattattgtaaatcacataaaccacccattagttttccattgtgtgctaatggacaagtttttggtttatataaaaatacatgtgttggtagcgataatgttactgactttaatgcaattgcaacatgtgactggacaaatgctggtgattacattttagctaacacctgtactgaaagactcaagctttttgcagcagaaacgctcaaagctactgaggagacatttaaactgtcttatggtattgctactgtacgtgaagtgctgtctgacagagaattacatctttcatgggaagttggtaaacctagaccaccacttaaccgaaattatgtctttactggttatcgtgtaactaaaaacagtaaagtacaaataggagagtacacctttgaaaaaggtgactatggtgatgctgttgtttaccgaggtacaacaacttacaaattaaatgttggtgattattttgtgctgacatcacatacagtaatgccattaagtgcacctacactagtgccacaagagcactatgttagaattactggcttatacccaacactcaatatctcagatgagttttctagcaatgttgcaaattatcaaaaggttggtatgcaaaagtattctacactccagggaccacctggtactggtaagagtcattttgctattggcctagctctctactacccttctgctcgcatagtgtatacagcttgctctcatgccgctgttgatgcactatgtgagaaggcattaaaatatttgcctatagataaatgtagtagaattatacctgcacgtgctcgtgtagagtgttttgataaattcaaagtgaattcaacattagaacagtatgtcttttgtactgtaaatgcattgcctgagacgacagcagatatagttgtctttgatgaaatttcaatggccacaaattatgatttgagtgttgtcaatgccagattacgtgctaagcactatgtgtacattggcgaccctgctcaattacctgcaccacgcacattgctaactaagggcacactagaaccagaatatttcaattcagtgtgtagacttatgaaaactataggtccagacatgttcctcggaacttgtcggcgttgtcctgctgaaattgttgacactgtgagtgctttggtttatgataataagcttaaagcacataaagacaaatcagctcaatgctttaaaatgttttataagggtgttatcacgcatgatgtttcatctgcaattaacaggccacaaataggcgtggtaagagaattccttacacgtaaccctgcttggagaaaagctgtctttatttcaccttataattcacagaatgctgtagcctcaaagattttgggactaccaactcaaactgttgattcatcacagggctcagaatatgactatgtcatattcactcaaaccactgaaacagctcactcttgtaatgtaaacagatttaatgttgctattaccagagcaaaagtaggcatactttgcataatgtctgatagagacctttatgacaagttgcaatttacaagtcttgaaattccacgtaggaatgtggcaactttacaagctgaaaatgtaacaggactctttaaagattgtagtaaggtaatcactgggttacatcctacacaggcacctacacacctcagtgttgacactaaattcaaaactgaaggtttatgtgttgacatacctggcatacctaaggacatgacctatagaagactcatctctatgatgggttttaaaatgaattatcaagttaatggttaccctaacatgtttatcacccgcgaagaagctataagacatgtacgtgcatggattggcttcgatgtcgaggggtgtcatgctactagagaagctgttggtaccaatttacctttacagctaggtttttctacaggtgttaacctagttgctgtacctacaggttatgttgatacacctaataatacagatttttccagagttagtgctaaaccaccgcctggagatcaatttaaacacctcataccacttatgtacaaaggacttccttggaatgtagtgcgtataaagattgtacaaatgttaagtgacacacttaaaaatctctctgacagagtcgtatttgtcttatgggcacatggctttgagttgacatctatgaagtattttgtgaaaataggacctgagcgcacctgttgtctatgtgatagacgtgccacatgcttttccactgcttcagacacttatgcctgttggcatcattctattggatttgattacgtctataatccgtttatgattgatgttcaacaatggggttttacaggtaacctacaaagcaaccatgatctgtattgtcaagtccatggtaatgcacatgtagctagttgtgatgcaatcatgactaggtgtctagctgtccacgagtgctttgttaagcgtgttgactggactattgaatatcctataattggtgatgaactgaagattaatgcggcttgtagaaaggttcaacacatggttgttaaagctgcattattagcagacaaattcccagttcttcacgacattggtaaccctaaagctattaagtgtgtacctcaagctgatgtagaatggaagttctatgatgcacagccttgtagtgacaaagcttataaaatagaagaattattctattcttatgccacacattctgacaaattcacagatggtgtatgcctattttggaattgcaatgtcgatagatatcctgctaattccattgtttgtagatttgacactagagtgctatctaaccttaacttgcctggttgtgatggtggcagtttgtatgtaaataaacatgcattccacacaccagcttttgataaaagtgcttttgttaatttaaaacaattaccatttttctattactctgacagtccatgtgagtctcatggaaaacaagtagtgtcagatatagattatgtaccactaaagtctgctacgtgtataacacgttgcaatttaggtggtgctgtctgtagacatcatgctaatgagtacagattgtatctcgatgcttataacatgatgatctcagctggctttagcttgtgggtttacaaacaatttgatacttataacctctggaacacttttacaagacttcagagtttagaaaatgtggcttttaatgttgtaaataagggacactttgatggacaacagggtgaagtaccagtttctatcattaataacactgtttacacaaaagttgatggtgttgatgtagaattgtttgaaaataaaacaacattacctgttaatgtagcatttgagctttgggctaagcgcaacattaaaccagtaccagaggtgaaaatactcaataatttgggtgtggacattgctgctaatactgtgatctgggactacaaaagagatgctccagcacatatatctactattggtgtttgttctatgactgacatagccaagaaaccaactgaaacgatttgtgcaccactcactgtcttttttgatggtagagttgatggtcaagtagacttatttagaaatgcccgtaatggtgttcttattacagaaggtagtgttaaaggtttacaaccatctgtaggtcccaaacaagctagtcttaatggagtcacattaattggagaagccgtaaaaacacagttcaattattataagaaagttgatggtgttgtccaacaattacctgaaacttactttactcagagtagaaatttacaagaatttaaacccaggagtcaaatggaaattgatttcttagaattagctatggatgaattcattgaacggtataaattagaaggctatgccttcgaacatatcgtttatggagattttagtcatagtcagttaggtggtttacatctactgattggactagctaaacgttttaaggaatcaccttttgaattagaagattttattcctatggacagtacagttaaaaactatttcataacagatgcgcaaacaggttcatctaagtgtgtgtgttctgttattgatttattacttgatgattttgttgaaataataaaatcccaagatttatctgtagtttctaaggttgtcaaagtgactattgactatacagaaatttcatttatgctttggtgtaaagatggccatgtagaaacattttacccaaaattacaatctagtcaagcgtggcaaccgggtgttgctatgcctaatctttacaaaatgcaaagaatgctattagaaaagtgtgaccttcaaaattatggtgatagtgcaacattacctaaaggcataatgatgaatgtcgcaaaatatactcaactgtgtcaatatttaaacacattaacattagctgtaccctataatatgagagttatacattttggtgctggttctgataaaggagttgcaccaggtacagctgttttaagacagtggttgcctacgggtacgctgcttgtcgattcagatcttaatgactttgtctctgatgcagattcaactttgattggtgattgtgcaactgtacatacagctaataaatgggatctcattattagtgatatgtacgaccctaagactaaaaatgttacaaaagaaaatgactctaaagagggttttttcacttacatttgtgggtttatacaacaaaagctagctcttggaggttccgtggctataaagataacagaacattcttggaatgctgatctttataagctcatgggacacttcgcatggtggacagcctttgttactaatgtgaatgcgtcatcatctgaagcatttttaattggatgtaattatcttggcaaaccacgcgaacaaatagatggttatgtcatgcatgcaaattacatattttggaggaatacaaatccaattcagttgtcttcctattctttatttgacatgagtaaatttccccttaaattaaggggtactgctgttatgtctttaaaagaaggtcaaatcaatgatatgattttatctcttcttagtaaaggtagacttataattagagaaaacaacagagttgttatttctagtgatgttcttgttaacaactaaacgaacaatgtttgtttttcttgttttattgccactagtctctagtcagtgtgttaatcttacaaccagaactcaattaccccctgcatacactaattctttcacacgtggtgtttattaccctgacaaagttttcagatcctcagttttacattcaactcaggacttgttcttacctttcttttccaatgttacttggttccatgctatacatgtctctgggaccaatggtactaagaggtttgataaccctgtcctaccatttaatgatggtgtttattttgcttccactgagaagtctaacataataagaggctggatttttggtactactttagattcgaagacccagtccctacttattgttaataacgctactaatgttgttattaaagtctgtgaatttcaattttgtaatgatccatttttgggtgtttattaccacaaaaacaacaaaagttggatggaaagtgagttcagagtttattctagtgcgaataattgcacttttgaatatgtctctcagccttttcttatggaccttgaaggaaaacagggtaatttcaaaaatcttagggaatttgtgtttaagaatattgatggttattttaaaatatattctaagcacacgcctattaatttagtgcgtgatctccctcagggtttttcggctttagaaccattggtagatttgccaataggtattaacatcactaggtttcaaactttacttgctttacatagaagttatttgactcctggtgattcttcttcaggttggacagctggtgctgcagcttattatgtgggttatcttcaacctaggacttttctattaaaatataatgaaaatggaaccattacagatgctgtagactgtgcacttgaccctctctcagaaacaaagtgtacgttgaaatccttcactgtagaaaaaggaatctatcaaacttctaactttagagtccaaccaacagaatctattgttagatttcctaatattacaaacttgtgcccttttggtgaagtttttaacgccaccagatttgcatctgtttatgcttggaacaggaagagaatcagcaactgtgttgctgattattctgtcctatataattccgcatcattttccacttttaagtgttatggagtgtctcctactaaattaaatgatctctgctttactaatgtctatgcagattcatttgtaattagaggtgatgaagtcagacaaatcgctccagggcaaactggaaagattgctgattataattataaattaccagatgattttacaggctgcgttatagcttggaattctaacaatcttgattctaaggttggtggtaattataattacctgtatagattgtttaggaagtctaatctcaaaccttttgagagagatatttcaactgaaatctatcaggccggtagcacaccttgtaatggtgttgaaggttttaattgttactttcctttacaatcatatggtttccaacccactaatggtgttggttaccaaccatacagagtagtagtactttcttttgaacttctacatgcaccagcaactgtttgtggacctaaaaagtctactaatttggttaaaaacaaatgtgtcaatttcaacttcaatggtttaacaggcacaggtgttcttactgagtctaacaaaaagtttctgcctttccaacaatttggcagagacattgctgacactactgatgctgtccgtgatccacagacacttgagattcttgacattacaccatgttcttttggtggtgtcagtgttataacaccaggaacaaatacttctaaccaggttgctgttctttatcaggatgttaactgcacagaagtccctgttgctattcatgcagatcaacttactcctacttggcgtgtttattctacaggttctaatgtttttcaaacacgtgcaggctgtttaataggggctgaacatgtcaacaactcatatgagtgtgacatacccattggtgcaggtatatgcgctagttatcagactcagactaattctcctcggcgggcacgtagtgtagctagtcaatccatcattgcctacactatgtcacttggtgcagaaaattcagttgcttactctaataactctattgccatacccacaaattttactattagtgttaccacagaaattctaccagtgtctatgaccaagacatcagtagattgtacaatgtacatttgtggtgattcaactgaatgcagcaatcttttgttgcaatatggcagtttttgtacacaattaaaccgtgctttaactggaatagctgttgaacaagacaaaaacacccaagaagtttttgcacaagtcaaacaaatttacaaaacaccaccaattaaagattttggtggttttaatttttcacaaatattaccagatccatcaaaaccaagcaagaggtcatttattgaagatctacttttcaacaaagtgacacttgcagatgctggcttcatcaaacaatatggtgattgccttggtgatattgctgctagagacctcatttgtgcacaaaagtttaacggccttactgttttgccacctttgctcacagatgaaatgattgctcaatacacttctgcactgttagcgggtacaatcacttctggttggacctttggtgcaggtgctgcattacaaataccatttgctatgcaaatggcttataggtttaatggtattggagttacacagaatgttctctatgagaaccaaaaattgattgccaaccaatttaatagtgctattggcaaaattcaagactcactttcttccacagcaagtgcacttggaaaacttcaagatgtggtcaaccaaaatgcacaagctttaaacacgcttgttaaacaacttagctccaattttggtgcaatttcaagtgttttaaatgatatcctttcacgtcttgacaaagttgaggctgaagtgcaaattgataggttgatcacaggcagacttcaaagtttgcagacatatgtgactcaacaattaattagagctgcagaaatcagagcttctgctaatcttgctgctactaaaatgtcagagtgtgtacttggacaatcaaaaagagttgatttttgtggaaagggctatcatcttatgtccttccctcagtcagcacctcatggtgtagtcttcttgcatgtgacttatgtccctgcacaagaaaagaacttcacaactgctcctgccatttgtcatgatggaaaagcacactttcctcgtgaaggtgtctttgtttcaaatggcacacactggtttgtaacacaaaggaatttttatgaaccacaaatcattactacagacaacacatttgtgtctggtaactgtgatgttgtaataggaattgtcaacaacacagtttatgatcctttgcaacctgaattagactcattcaaggaggagttagataaatattttaagaatcatacatcaccagatgttgatttaggtgacatctctggcattaatgcttcagttgtaaacattcaaaaagaaattgaccgcctcaatgaggttgccaagaatttaaatgaatctctcatcgatctccaagaacttggaaagtatgagcagtatataaaatggccatggtacatttggctaggttttatagctggcttgattgccatagtaatggtgacaattatgctttgctgtatgaccagttgctgtagttgtctcaagggctgttgttcttgtggatcctgctgcaaatttgatgaagacgactctgagccagtgctcaaaggagtcaaattacattacacataaacgaacttatggatttgtttatgagaatcttcacaattggaactgtaactttgaagcaaggtgaaatcaaggatgctactccttcagattttgttcgcgctactgcaacgataccgatacaagcctcactccctttcggatggcttattgttggcgttgcacttcttgctgtttttcagagcgcttccaaaatcataaccctcaaaaagagatggcaactagcactctccaagggtgttcactttgtttgcaacttgctgttgttgtttgtaacagtttactcacaccttttgctcgttgctgctggccttgaagccccttttctctatctttatgctttagtctacttcttgcagagtataaactttgtaagaataataatgaggctttggctttgctggaaatgccgttccaaaaacccattactttatgatgccaactattttctttgctggcatactaattgttacgactattgtataccttacaatagtgtaacttcttcaattgtcattacttcaggtgatggcacaacaagtcctatttctgaacatgactaccagattggtggttatactgaaaaatgggaatctggagtaaaagactgtgttgtattacacagttacttcacttcagactattaccagctgtactcaactcaattgagtacagacactggtgttgaacatgttaccttcttcatctacaataaaattgttgatgagcctgaagaacatgtccaaattcacacaatcgacggttcatccggagttgttaatccagtaatggaaccaatttatgatgaaccgacgacgactactagcgtgcctttgtaagcacaagctgatgagtacgaacttatgtactcattcgtttcggaagagacaggtacgttaatagttaatagcgtacttctttttcttgctttcgtggtattcttgctagttacactagccatccttactgcgcttcgattgtgtgcgtactgctgcaatattgttaacgtgagtcttgtaaaaccttctttttacgtttactctcgtgttaaaaatctgaattcttctagagttcctgatcttctggtctaaacgaactaaatattatattagtttttctgtttggaactttaattttagccatggcagattccaacggtactattaccgttgaagagcttaaaaagctccttgaacaatggaacctagtaataggtttcctattccttacatggatttgtcttctacaatttgcctatgccaacaggaataggtttttgtatataattaagttaattttcctctggctgttatggccagtaactttagcttgttttgtgcttgctgctgtttacagaataaattggatcaccggtggaattgctatcgcaatggcttgtcttgtaggcttgatgtggctcagctacttcattgcttctttcagactgtttgcgcgtacgcgttccatgtggtcattcaatccagaaactaacattcttctcaacgtgccactccatggcactattctgaccagaccgcttctagaaagtgaactcgtaatcggagctgtgatccttcgtggacatcttcgtattgctggacaccatctaggacgctgtgacatcaaggacctgcctaaagaaatcactgttgctacatcacgaacgctttcttattacaaattgggagcttcgcagcgtgtagcaggtgactcaggttttgctgcatacagtcgctacaggattggcaactataaattaaacacagaccattccagtagcagtgacaatattgctttgcttgtacagtaagtgacaacagatgtttcatctcgttgactttcaggttactatagcagagatattactaattattatgaggacttttaaagtttccatttggaatcttgattacatcataaacctcataattaaaaatttatctaagtcactaactgagaataaatattctcaattagatgaagagcaaccaatggagattgattaaacgaacatgaaaattattcttttcttggcactgataacactcgctacttgtgagctttatcactaccaagagtgtgttagaggtacaacagtacttttaaaagaaccttgctcttctggaacatacgagggcaattcaccatttcatcctctagctgataacaaatttgcactgacttgctttagcactcaatttgcttttgcttgtcctgacggcgtaaaacacgtctatcagttacgtgccagatcagtttcacctaaactgttcatcagacaagaggaagttcaagaactttactctccaatttttcttattgttgcggcaatagtgtttataacactttgcttcacactcaaaagaaagacagaatgattgaactttcattaattgacttctatttgtgctttttagcctttctgctattccttgttttaattatgcttattatcttttggttctcacttgaactgcaagatcataatgaaacttgtcacgcctaaacgaacatgaaatttcttgttttcttaggaatcatcacaactgtagctgcatttcaccaagaatgtagtttacagtcatgtactcaacatcaaccatatgtagttgatgacccgtgtcctattcacttctattctaaatggtatattagagtaggagctagaaaatcagcacctttaattgaattgtgcgtggatgaggctggttctaaatcacccattcagtacatcgatatcggtaattatacagtttcctgtttaccttttacaattaattgccaggaacctaaattgggtagtcttgtagtgcgttgttcgttctatgaagactttttagagtatcatgacgttcgtgttgttttagatttcatctaaacgaacaaactaaaatgtctgataatggaccccaaaatcagcgaaatgcaccccgcattacgtttggtggaccctcagattcaactggcagtaaccagaatggagaacgcagtggggcgcgatcaaaacaacgtcggccccaaggtttacccaataatactgcgtcttggttcaccgctctcactcaacatggcaaggaagaccttaaattccctcgaggacaaggcgttccaattaacaccaatagcagtccagatgaccaaattggctactaccgaagagctaccagacgaattcgtggtggtgacggtaaaatgaaagatctcagtccaagatggtatttctactacctaggaactgggccagaagctggacttccctatggtgctaacaaagacggcatcatatgggttgcaactgagggagccttgaatacaccaaaagatcacattggcacccgcaatcctgctaacaatgctgcaatcgtgctacaacttcctcaaggaacaacattgccaaaaggcttctacgcagaagggagcagaggcggcagtcaagcctcttctcgttcctcatcacgtagtcgcaacagttcaagaaattcaactccaggcagcagtaggggaacttctcctgctagaatggctggcaatggcggtgatgctgctcttgctttgctgctgcttgacagattgaaccagcttgagagcaaaatgtctggtaaaggccaacaacaacaaggccaaactgtcactaagaaatctgctgctgaggcttctaagaagcctcggcaaaaacgtactgccactaaagcatacaatgtaacacaagctttcggcagacgtggtccagaacaaacccaaggaaattttggggaccaggaactaatcagacaaggaactgattacaaacattggccgcaaattgcacaatttgcccccagcgcttcagcgttcttcggaatgtcgcgcattggcatggaagtcacaccttcgggaacgtggttgacctacacaggtgccatcaaattggatgacaaagatccaaatttcaaagatcaagtcattttgctgaataagcatattgacgcatacaaaacattcccaccaacagagcctaaaaaggacaaaaagaagaaggctgatgaaactcaagccttaccgcagagacagaagaaacagcaaactgtgactcttcttcctgctgcagatttggatgatttctccaaacaattgcaacaatccatgagcagtgctgactcaactcaggcctaaactcatgcagaccacacaaggcagatgggctatataaacgttttcgcttttccgtttacgatatatagtctactcttgtgcagaatgaattctcgtaactacatagcacaagtagatgtagttaactttaatctcacatagcaatctttaatcagtgtgtaacattagggaggacttgaaagagccaccacattttcaccgaggccacgcggagtacgatcgagtgtacagtgaacaatgctagggagagctgcctatatggaagagccctaatgtgtaaaattaattttagtagtgctatccccatgtgattttaatagcttcttaggagaatgacaaaaaaaaaaaaaaaaaaaaaaaaaaaaaaaaa\n"
     ]
    }
   ],
   "source": [
    "f = open(\"covid19.txt\", \"r\") # reading file at the same directory\n",
    "\n",
    "# Create an empty list.\n",
    "lines = [] #one single line element\n",
    "\n",
    "# Convert lines into string list.\n",
    "for line in f.readlines():\n",
    "    lines.append(line.rstrip())\n",
    "\n",
    "# Display all elements.\n",
    "for element in lines:\n",
    "    print(str(element))"
   ]
  },
  {
   "cell_type": "markdown",
   "metadata": {},
   "source": [
    "### Since input sequence is FASTA (DNA), and Coronavirus is RNA type of virus, you can transcribe DNA => RNA , as the example https://medium.com/analytics-vidhya/coronavirus-covid-19-genome-analysis-using-biopython-8b8cb1f4a041"
   ]
  },
  {
   "cell_type": "markdown",
   "metadata": {},
   "source": [
    "## Know the data:"
   ]
  },
  {
   "cell_type": "code",
   "execution_count": 3,
   "metadata": {},
   "outputs": [
    {
     "data": {
      "text/plain": [
       "29903"
      ]
     },
     "execution_count": 3,
     "metadata": {},
     "output_type": "execute_result"
    }
   ],
   "source": [
    "len(lines[0]) #number of bases"
   ]
  },
  {
   "cell_type": "code",
   "execution_count": 4,
   "metadata": {},
   "outputs": [
    {
     "data": {
      "text/plain": [
       "8954"
      ]
     },
     "execution_count": 4,
     "metadata": {},
     "output_type": "execute_result"
    }
   ],
   "source": [
    "lines[0].count(\"a\") #number of 'A' base in COVID19 genome sequence"
   ]
  },
  {
   "cell_type": "code",
   "execution_count": 5,
   "metadata": {},
   "outputs": [
    {
     "data": {
      "text/plain": [
       "9594"
      ]
     },
     "execution_count": 5,
     "metadata": {},
     "output_type": "execute_result"
    }
   ],
   "source": [
    "lines[0].count(\"t\") #number of 'T' base in COVID19 genome sequence // \"U\" base in RNA"
   ]
  },
  {
   "cell_type": "code",
   "execution_count": 6,
   "metadata": {},
   "outputs": [
    {
     "data": {
      "text/plain": [
       "5863"
      ]
     },
     "execution_count": 6,
     "metadata": {},
     "output_type": "execute_result"
    }
   ],
   "source": [
    "lines[0].count(\"g\") #number of 'G' base in COVID19 genome sequence"
   ]
  },
  {
   "cell_type": "code",
   "execution_count": 7,
   "metadata": {},
   "outputs": [
    {
     "data": {
      "text/plain": [
       "5492"
      ]
     },
     "execution_count": 7,
     "metadata": {},
     "output_type": "execute_result"
    }
   ],
   "source": [
    "lines[0].count(\"c\") #number of 'C' base in COVID19 genome sequence"
   ]
  },
  {
   "cell_type": "code",
   "execution_count": 33,
   "metadata": {},
   "outputs": [
    {
     "name": "stdout",
     "output_type": "stream",
     "text": [
      "85\n"
     ]
    }
   ],
   "source": [
    "def PatternCount(Text, Pattern): #show how many times a certain sequence occurs\n",
    "    count = 0\n",
    "    for i in range(len(Text)-len(Pattern)+1):\n",
    "        if Text[i:i+len(Pattern)] == Pattern:\n",
    "            count = count+1\n",
    "    return count\n",
    "\n",
    "print(PatternCount(lines[0], \"aaaaa\")) #5-mer \"A\" sequence"
   ]
  },
  {
   "cell_type": "markdown",
   "metadata": {},
   "source": [
    "## Next, I choose a 5-mer instead of using some other value of k just to check it out..."
   ]
  },
  {
   "cell_type": "code",
   "execution_count": 14,
   "metadata": {},
   "outputs": [
    {
     "name": "stdout",
     "output_type": "stream",
     "text": [
      "{'attaa': 60, 'ttaaa': 95, 'taaag': 64, 'aaagg': 45, 'aaggt': 46, 'aggtt': 51, 'ggttt': 55, 'gttta': 69, 'tttat': 75, 'ttata': 49, 'tatac': 29, 'atacc': 25, 'tacct': 36, 'acctt': 53, 'ccttc': 22, 'cttcc': 15, 'ttccc': 15, 'tccca': 9, 'cccag': 7, 'ccagg': 16, 'caggt': 30, 'aggta': 28, 'ggtaa': 45, 'gtaac': 30, 'taaca': 71, 'aacaa': 99, 'acaaa': 89, 'caaac': 46, 'aaacc': 42, 'aacca': 53, 'accaa': 43, 'ccaac': 30, 'caacc': 39, 'caact': 72, 'aactt': 68, 'acttt': 79, 'ctttc': 31, 'tttcg': 11, 'ttcga': 7, 'tcgat': 12, 'cgatc': 9, 'gatct': 25, 'atctc': 26, 'tctct': 35, 'ctctt': 31, 'tcttg': 52, 'cttgt': 67, 'ttgta': 74, 'tgtag': 64, 'gtaga': 40, 'tagat': 43, 'agatc': 26, 'atctg': 26, 'tctgt': 35, 'ctgtt': 70, 'tgttc': 41, 'gttct': 38, 'ttctc': 21, 'ctcta': 25, 'tctaa': 40, 'ctaaa': 69, 'taaac': 56, 'aaacg': 18, 'aacga': 11, 'acgaa': 13, 'cgaac': 14, 'gaact': 34, 'cttta': 77, 'tttaa': 91, 'taaaa': 79, 'aaaat': 70, 'aaatc': 37, 'aatct': 38, 'ctgtg': 34, 'tgtgt': 61, 'gtgtg': 35, 'tgtgg': 46, 'gtggc': 23, 'tggct': 46, 'ggctg': 27, 'gctgt': 55, 'ctgtc': 22, 'tgtca': 48, 'gtcac': 25, 'tcact': 39, 'cactc': 24, 'actcg': 9, 'ctcgg': 7, 'tcggc': 9, 'cggct': 4, 'gctgc': 47, 'ctgca': 32, 'tgcat': 29, 'gcatg': 15, 'catgc': 32, 'atgct': 66, 'tgctt': 75, 'gctta': 40, 'cttag': 29, 'ttagt': 35, 'tagtg': 52, 'agtgc': 40, 'gtgca': 31, 'tgcac': 43, 'gcact': 36, 'actca': 54, 'ctcac': 16, 'tcacg': 11, 'cacgc': 13, 'acgca': 14, 'cgcag': 8, 'gcagt': 20, 'cagta': 30, 'agtat': 24, 'gtata': 25, 'tataa': 59, 'ataat': 49, 'taatt': 65, 'aatta': 80, 'ttaat': 74, 'taata': 45, 'aataa': 42, 'ataac': 34, 'taact': 37, 'aacta': 39, 'actaa': 58, 'ctaat': 56, 'attac': 62, 'ttact': 79, 'tactg': 50, 'actgt': 58, 'tgtcg': 14, 'gtcgt': 5, 'tcgtt': 12, 'cgttg': 12, 'gttga': 62, 'ttgac': 42, 'tgaca': 65, 'gacag': 22, 'acagg': 39, 'cagga': 22, 'aggac': 24, 'ggaca': 34, 'gacac': 36, 'acacg': 14, 'cacga': 6, 'acgag': 5, 'cgagt': 3, 'gagta': 24, 'agtaa': 24, 'aactc': 31, 'ctcgt': 14, 'tcgtc': 5, 'cgtct': 11, 'gtcta': 27, 'tctat': 48, 'ctatc': 19, 'tatct': 30, 'atctt': 40, 'tcttc': 36, 'cttct': 57, 'ttctg': 44, 'tctgc': 21, 'tgcag': 39, 'gcagg': 10, 'caggc': 18, 'aggct': 29, 'ctgct': 62, 'cttac': 51, 'ttacg': 18, 'tacgg': 6, 'acggt': 14, 'cggtt': 6, 'gtttc': 34, 'ttcgt': 14, 'cgtcc': 4, 'gtccg': 5, 'tccgt': 7, 'ccgtg': 12, 'cgtgt': 21, 'gtgtt': 90, 'tgttg': 97, 'gttgc': 38, 'ttgca': 52, 'gcagc': 13, 'cagcc': 10, 'agccg': 3, 'gccga': 5, 'ccgat': 6, 'gatca': 21, 'atcat': 30, 'tcatc': 32, 'catca': 43, 'atcag': 35, 'tcagc': 27, 'cagca': 24, 'agcac': 22, 'gcaca': 34, 'cacat': 36, 'acatc': 32, 'catct': 37, 'atcta': 38, 'tctag': 21, 'ctagg': 16, 'taggt': 29, 'tccgg': 2, 'ccggg': 3, 'cgggt': 6, 'gggtg': 20, 'ggtgt': 57, 'tgtga': 46, 'gtgac': 28, 'tgacc': 23, 'gaccg': 5, 'accga': 8, 'ccgaa': 7, 'cgaaa': 8, 'gaaag': 29, 'gtaag': 15, 'taaga': 34, 'aagat': 44, 'agatg': 56, 'gatgg': 44, 'atgga': 45, 'tggag': 27, 'ggaga': 19, 'gagag': 16, 'agagc': 25, 'gagcc': 10, 'agcct': 20, 'gcctt': 27, 'ccttg': 27, 'ttgtc': 47, 'tgtcc': 23, 'gtccc': 7, 'tccct': 17, 'ccctg': 13, 'cctgg': 11, 'ctggt': 55, 'tggtt': 69, 'tttca': 60, 'ttcaa': 64, 'tcaac': 60, 'caacg': 8, 'cgaga': 3, 'gagaa': 32, 'agaaa': 72, 'gaaaa': 56, 'aaaac': 59, 'aaaca': 75, 'aacac': 45, 'acaca': 55, 'cacac': 36, 'cacgt': 17, 'acgtc': 9, 'gtcca': 18, 'tccaa': 29, 'ctcag': 29, 'tcagt': 30, 'cagtt': 43, 'agttt': 62, 'gtttg': 41, 'tttgc': 58, 'ttgcc': 35, 'tgcct': 41, 'gcctg': 14, 'cctgt': 18, 'tgttt': 91, 'gtttt': 79, 'tttta': 90, 'tttac': 72, 'ttaca': 96, 'tacag': 60, 'ggttc': 29, 'gttcg': 9, 'ttcgc': 10, 'tcgcg': 3, 'cgcga': 5, 'gcgac': 3, 'cgacg': 5, 'gacgt': 8, 'acgtg': 25, 'cgtgc': 16, 'gtgct': 54, 'tgctc': 33, 'gctcg': 11, 'tcgta': 12, 'cgtac': 7, 'gtacg': 17, 'tacgt': 21, 'cgtgg': 14, 'ggctt': 36, 'gcttt': 60, 'ctttg': 60, 'tttgg': 55, 'ttgga': 49, 'gagac': 17, 'agact': 35, 'gactc': 18, 'actcc': 12, 'ctccg': 2, 'gtgga': 26, 'ggagg': 14, 'gagga': 19, 'aggag': 25, 'gaggt': 20, 'aggtc': 10, 'ggtct': 7, 'gtctt': 45, 'tctta': 58, 'cttat': 62, 'ttatc': 34, 'tatca': 30, 'tcaga': 39, 'cagag': 37, 'agagg': 27, 'gaggc': 15, 'aggca': 18, 'ggcac': 24, 'gcacg': 8, 'cgtca': 7, 'gtcaa': 29, 'caaca': 75, 'aacat': 67, 'cttaa': 47, 'aaaga': 73, 'atggc': 34, 'tggca': 41, 'cactt': 61, 'acttg': 52, 'ttgtg': 69, 'tagta': 24, 'agtag': 24, 'tagaa': 48, 'agaag': 63, 'gaagt': 47, 'aagtt': 60, 'agttg': 58, 'ttgaa': 65, 'tgaaa': 62, 'aaaaa': 85, 'aaaag': 66, 'aaggc': 21, 'aggcg': 6, 'ggcgt': 7, 'gcgtt': 9, 'cgttt': 15, 'ttttg': 97, 'gcctc': 11, 'cctca': 29, 'ctcaa': 57, 'cttga': 37, 'tgaac': 33, 'gaaca': 35, 'aacag': 45, 'acagc': 20, 'agccc': 5, 'gccct': 7, 'cccta': 14, 'cctat': 30, 'ctatg': 46, 'tatgt': 56, 'atgtg': 49, 'gttca': 29, 'ttcat': 40, 'atcaa': 45, 'tcaaa': 56, 'aacgt': 18, 'acgtt': 16, 'cgttc': 10, 'ttcgg': 8, 'tcgga': 6, 'cggat': 3, 'ggatg': 19, 'gatgc': 36, 'ctcga': 5, 'tcgaa': 6, 'aactg': 61, 'actgc': 23, 'gcacc': 20, 'cacct': 46, 'acctc': 21, 'ctcat': 29, 'tcatg': 35, 'catgg': 27, 'atggt': 77, 'tggtc': 16, 'ggtca': 12, 'gtcat': 28, 'catgt': 41, 'atgtt': 68, 'tgtta': 101, 'gttat': 43, 'ttatg': 92, 'tatgg': 40, 'ggttg': 36, 'ttgag': 20, 'tgagc': 15, 'gagct': 26, 'agctg': 48, 'gctgg': 34, 'tggta': 68, 'ggtag': 20, 'gtagc': 20, 'tagca': 24, 'agcag': 19, 'gcaga': 38, 'cagaa': 43, 'agaac': 21, 'cgaag': 9, 'gaagg': 25, 'ggcat': 19, 'gcatt': 28, 'cattc': 33, 'attca': 48, 'ttcag': 36, 'agtac': 35, 'cggtc': 2, 'ggtcg': 2, 'cgtag': 10, 'gtagt': 45, 'agtgg': 25, 'gtggt': 51, 'tggtg': 92, 'ggtga': 48, 'gtgag': 14, 'tgaga': 22, 'agaca': 56, 'acact': 59, 'cttgg': 30, 'ttggt': 62, 'gtgtc': 24, 'gtcct': 17, 'tcctt': 26, 'ccctc': 11, 'gtggg': 14, 'tgggc': 11, 'gggcg': 3, 'ggcga': 5, 'gcgaa': 10, 'gaaat': 51, 'aaata': 45, 'aatac': 32, 'tacca': 45, 'accag': 42, 'ccagt': 25, 'cagtg': 25, 'ttacc': 48, 'taccg': 8, 'accgc': 9, 'ccgca': 9, 'cgcaa': 15, 'gcaag': 17, 'caagg': 24, 'ttctt': 97, 'cttcg': 13, 'cgtaa': 15, 'aagaa': 82, 'gaacg': 10, 'aacgg': 9, 'cggta': 12, 'gtaat': 39, 'ataaa': 57, 'aagga': 32, 'ggagc': 13, 'ggtgg': 29, 'tggcc': 17, 'ggcca': 14, 'gccat': 21, 'ccata': 17, 'catag': 22, 'atagt': 27, 'tagtt': 42, 'agtta': 43, 'gttac': 56, 'acggc': 7, 'cggcg': 4, 'ggcgc': 2, 'gcgcc': 1, 'cgccg': 1, 'aaagt': 57, 'aagtc': 24, 'agtca': 31, 'tcatt': 37, 'cattt': 53, 'atttg': 59, 'tttga': 56, 'tgact': 43, 'gactt': 44, 'actta': 66, 'ttagg': 17, 'taggc': 7, 'gacga': 8, 'cgagc': 1, 'agctt': 45, 'gcttg': 37, 'ttggc': 37, 'cactg': 33, 'actga': 43, 'ctgat': 34, 'tgatc': 19, 'gatcc': 11, 'atcct': 26, 'cctta': 25, 'tatga': 68, 'atgaa': 54, 'tgaag': 60, 'gaaga': 56, 'agatt': 47, 'gattt': 49, 'atttt': 77, 'ttttc': 51, 'tcaag': 37, 'caaga': 46, 'aaact': 56, 'actgg': 33, 'ctgga': 23, 'tggaa': 54, 'ggaac': 27, 'cacta': 45, 'acata': 47, 'atagc': 21, 'taccc': 18, 'acccg': 7, 'cccgt': 6, 'cgtga': 11, 'gtgaa': 40, 'atgcg': 9, 'tgcgt': 15, 'gcgtg': 11, 'ttaac': 43, 'taacg': 9, 'acgga': 5, 'cggag': 4, 'gaggg': 11, 'agggg': 7, 'ggggc': 5, 'gggca': 11, 'gcata': 21, 'catac': 30, 'ataca': 47, 'tacac': 51, 'ctcgc': 6, 'tcgct': 7, 'cgcta': 9, 'gctat': 45, 'atgtc': 48, 'gtcga': 5, 'cgata': 11, 'gataa': 31, 'acaac': 73, 'acttc': 46, 'ggccc': 5, 'cctga': 17, 'tgatg': 91, 'ggcta': 24, 'gctac': 29, 'ctacc': 19, 'accct': 23, 'cctct': 17, 'tgagt': 34, 'gagtg': 26, 'catta': 44, 'aagac': 36, 'agacc': 13, 'gacct': 19, 'ttcta': 54, 'ctagc': 15, 'tgctg': 81, 'gtaaa': 42, 'aaagc': 30, 'aagct': 51, 'gcttc': 27, 'cttca': 46, 'atgca': 49, 'tttgt': 88, 'tccga': 3, 'tggac': 35, 'ggact': 16, 'ttatt': 72, 'tattg': 60, 'attga': 36, 'ctaag': 21, 'aagag': 47, 'ggggt': 5, 'gtgta': 41, 'tgtat': 37, 'atact': 30, 'ctgcc': 12, 'tgccg': 9, 'gccgt': 5, 'acatg': 50, 'catga': 21, 'atgag': 37, 'gagca': 16, 'agcat': 19, 'aaatt': 95, 'aattg': 66, 'attgc': 39, 'ttgct': 73, 'ggtac': 32, 'gtaca': 53, 'cacgg': 5, 'cggaa': 7, 'tctga': 29, 'ctgaa': 36, 'agcta': 40, 'tgaat': 40, 'gaatt': 48, 'cagac': 39, 'acacc': 40, 'ccttt': 44, 'ctttt': 82, 'taaat': 64, 'attgg': 46, 'ggcaa': 21, 'gcaaa': 39, 'caaag': 46, 'aattt': 81, 'tcaat': 42, 'caatg': 55, 'aatgg': 64, 'atggg': 19, 'tgggg': 7, 'gggga': 4, 'gggaa': 10, 'ggaat': 28, 'gaatg': 30, 'aatgt': 71, 'ccaaa': 29, 'caaat': 60, 'gtatt': 34, 'tattt': 49, 'atttc': 43, 'tttcc': 25, 'ccctt': 12, 'aattc': 47, 'attcc': 21, 'ttcca': 33, 'tccat': 23, 'cataa': 28, 'taatc': 27, 'aatca': 43, 'gacta': 23, 'actat': 47, 'ctatt': 66, 'tattc': 31, 'ccaag': 20, 'aaggg': 21, 'agggt': 22, 'gggtt': 21, 'ttgat': 64, 'tgggt': 22, 'gggta': 13, 'agaat': 49, 'attcg': 6, 'tgtct': 56, 'tatcc': 9, 'atcca': 18, 'tccag': 20, 'ttgcg': 9, 'gcgtc': 6, 'tcacc': 22, 'cacca': 34, 'aaatg': 68, 'aatga': 50, 'aatgc': 49, 'tgcaa': 53, 'gcaac': 31, 'tgtgc': 34, 'gtgcc': 18, 'actct': 26, 'ctctc': 20, 'tctca': 28, 'aagtg': 43, 'agtgt': 51, 'gtgat': 53, 'cattg': 31, 'attgt': 68, 'gaaac': 30, 'ggcag': 15, 'agacg': 14, 'gacgg': 10, 'acggg': 4, 'cgggc': 3, 'gcgat': 5, 'cgatt': 8, 'ttgtt': 102, 'gttaa': 61, 'aagcc': 18, 'agcca': 20, 'gccac': 26, 'ccact': 29, 'cttgc': 34, 'tgcga': 6, 'cgaat': 5, 'ctgag': 19, 'aggtg': 36, 'ggtgc': 23, 'tgcca': 38, 'actac': 38, 'ctact': 59, 'tactt': 70, 'ggtta': 27, 'acccc': 5, 'cccca': 6, 'cccaa': 16, 'caaaa': 61, 'gttgt': 69, 'attta': 53, 'ccagc': 11, 'tcaca': 39, 'cacaa': 50, 'acaat': 77, 'caatt': 66, 'aagta': 29, 'gtagg': 13, 'tagga': 17, 'ggacc': 16, 'acctg': 26, 'tagtc': 20, 'agtct': 29, 'gaata': 26, 'accat': 32, 'taatg': 81, 'gaatc': 18, 'tctgg': 22, 'ctggc': 16, 'ccatt': 30, 'attct': 58, 'taagg': 26, 'gtcgc': 6, 'tcgca': 14, 'cgcac': 9, 'gttgg': 34, 'acaag': 46, 'caagt': 26, 'gccta': 23, 'ttggg': 17, 'gttcc': 19, 'tccac': 14, 'ccacg': 8, 'tgcta': 66, 'gctag': 26, 'tagcg': 7, 'agcgc': 5, 'gcgct': 7, 'gctaa': 39, 'ctaac': 28, 'atagg': 13, 'tgtaa': 42, 'taacc': 18, 'ttccg': 4, 'atgac': 39, 'gacaa': 53, 'aacct': 39, 'tactc': 28, 'ctcca': 17, 'agaga': 36, 'caata': 28, 'aatat': 37, 'atatt': 36, 'gagat': 15, 'gatcg': 3, 'atcgc': 4, 'tcgcc': 2, 'cgcca': 6, 'attat': 67, 'gcatc': 14, 'tcttt': 67, 'ttttt': 61, 'tttct': 63, 'ccaca': 28, 'ggaaa': 24, 'tggat': 27, 'ggatt': 17, 'gatta': 26, 'aagca': 22, 'aatcc': 22, 'tcctg': 14, 'tacaa': 83, 'aggaa': 28, 'acaga': 62, 'gagtc': 15, 'agtcc': 12, 'tcctc': 11, 'tatgc': 36, 'tcgtg': 14, 'tgtac': 57, 'tacga': 11, 'acgat': 9, 'tctcc': 9, 'ctccc': 4, 'tcccg': 1, 'cccgc': 4, 'gctca': 20, 'gtgcg': 10, 'aggcc': 8, 'ggccg': 4, 'gccgc': 4, 'ccgct': 6, 'ctata': 39, 'tacta': 66, 'actag': 30, 'ctaga': 27, 'ttcac': 43, 'cacag': 34, 'acagt': 40, 'atgat': 57, 'gatgt': 42, 'tgatt': 57, 'caatc': 27, 'ctagt': 31, 'ggcct': 9, 'cctac': 26, 'ctaca': 43, 'tacat': 45, 'acatt': 66, 'aaccc': 16, 'ccgtc': 3, 'gattg': 32, 'ttaag': 47, 'ggaag': 20, 'tagag': 32, 'agagt': 44, 'gagtt': 33, 'ttaga': 52, 'tggga': 16, 'gtcgg': 5, 'tcggt': 6, 'cggtg': 9, 'gacat': 47, 'taagc': 17, 'gctga': 28, 'ctgac': 28, 'tttag': 51, 'aggga': 12, 'gggat': 7, 'ccaga': 28, 'atgcc': 29, 'gcccc': 5, 'gggag': 7, 'cccac': 8, 'attag': 30, 'accta': 40, 'agtga': 30, 'gaagc': 24, 'agctc': 12, 'gctcc': 8, 'tatta': 68, 'gggct': 14, 'gtact': 46, 'tgccc': 6, 'cctaa': 37, 'atatg': 33, 'ggcgg': 5, 'gcggt': 5, 'gatga': 48, 'tgata': 41, 'gatag': 13, 'ataga': 30, 'atatc': 17, 'atcac': 27, 'aggat': 13, 'gctct': 15, 'ctctg': 17, 'agttc': 15, 'cgcct': 5, 'cagat': 48, 'tcata': 23, 'gtatc': 6, 'accac': 34, 'ctggg': 6, 'ggagt': 17, 'gtatg': 29, 'gtctg': 20, 'catat': 28, 'atgta': 45, 'tctac': 35, 'cctcc': 2, 'tgagg': 19, 'ccatc': 16, 'agcaa': 26, 'gttag': 19, 'cggca': 9, 'aatag': 33, 'gccaa': 20, 'ccaat': 29, 'ataag': 20, 'ccatg': 21, 'tagct': 40, 'gacca': 19, 'aagcg': 4, 'agcgg': 2, 'gcgga': 3, 'cggac': 2, 'cggcc': 4, 'gccca': 3, 'cagct': 28, 'ggtat': 24, 'gaccc': 12, 'agata': 21, 'gatac': 18, 'ttagc': 25, 'caagc': 24, 'cgctg': 8, 'gattc': 22, 'ttcct': 28, 'tccta': 28, 'taagt': 26, 'tatat': 27, 'gcaat': 28, 'catcc': 9, 'atata': 25, 'tatag': 23, 'agcga': 4, 'cccgg': 2, 'gggtc': 1, 'gtcag': 16, 'tcagg': 20, 'caggg': 15, 'ctgta': 40, 'gcgag': 2, 'cagcg': 9, 'agcgt': 11, 'gcgta': 11, 'gccag': 11, 'cgtat': 9, 'ggtcc': 8, 'ccacc': 17, 'cctag': 12, 'tagac': 26, 'ctacg': 7, 'accca': 21, 'cctgc': 21, 'agggc': 12, 'tagcc': 10, 'gtacc': 15, 'aacgc': 7, 'caccc': 10, 'acgta': 14, 'atacg': 7, 'ggacg': 4, 'gacgc': 3, 'acgcg': 5, 'cgcgc': 3, 'gcgca': 6, 'ggata': 8, 'ctgcg': 6, 'cagtc': 17, 'gtctc': 11, 'aaccg': 7, 'accgt': 9, 'ccgac': 2, 'cgact': 4, 'ccccg': 3, 'cccga': 1, 'agtcg': 4, 'catcg': 5, 'atcgt': 10, 'tgcgg': 6, 'cgtta': 8, 'tggcg': 6, 'gactg': 13, 'tgcgc': 7, 'gcgcg': 3, 'cgcgt': 4, 'gatat': 19, 'cccat': 8, 'tacgc': 11, 'acgcc': 7, 'cgccc': 1, 'ggctc': 6, 'tatcg': 7, 'tctcg': 6, 'tgacg': 6, 'cgcat': 11, 'acgct': 8, 'aatcg': 6, 'atcga': 5, 'gaacc': 16, 'ccgtt': 8, 'gggac': 9, 'gggcc': 3, 'acgac': 9, 'cgaca': 3, 'gccgg': 3, 'ccggt': 4, 'atccg': 4, 'ggggg': 1, 'caccg': 9, 'accgg': 3, 'ccgga': 2, 'ggatc': 6, 'tccgc': 3, 'ccgcg': 2, 'gcccg': 2, 'gcggc': 4, 'cgctt': 8, 'cctcg': 6, 'cgatg': 4, 'atccc': 3, 'ccgta': 4, 'ccgcc': 3, 'taggg': 6, 'ccggc': 1, 'cgacc': 3, 'cgctc': 3, 'ccgag': 2, 'cgagg': 5, 'tcgag': 3, 'gagcg': 2, 'tcccc': 2, 'cccct': 3, 'ccccc': 2, 'ctcct': 8, 'gcggg': 2, 'tcgac': 1, 'atcgg': 2, 'cgtcg': 1, 'tcggg': 1, 'cggga': 1, 'cgcgg': 1}\n"
     ]
    }
   ],
   "source": [
    "def FrequencyMap(Text, k): #which 5-mer occurs and how many times\n",
    "    freq = {}\n",
    "    n = len(Text)\n",
    "    for i in range(n-k+1):\n",
    "        pattern = Text[i:i+k]\n",
    "        if pattern not in freq.keys():\n",
    "            freq[pattern] = 1\n",
    "        else:\n",
    "            freq[pattern] += 1\n",
    "    return freq\n",
    "\n",
    "print(FrequencyMap(lines[0], 5))"
   ]
  },
  {
   "cell_type": "markdown",
   "metadata": {},
   "source": [
    "## We need to find the most frequent 5-mer sequences:"
   ]
  },
  {
   "cell_type": "code",
   "execution_count": 39,
   "metadata": {},
   "outputs": [
    {
     "name": "stdout",
     "output_type": "stream",
     "text": [
      "['ttaaa', 'aaatt']\n"
     ]
    }
   ],
   "source": [
    "def FrequentWords(Text, k): #the most frequent sequence of 9-mer\n",
    "    # your code here\n",
    "    words = []\n",
    "    freq = FrequencyMap(Text, k)\n",
    "    m = 95 #times of a 5-mer sequence occurs\n",
    "    for key in freq:\n",
    "        if freq[key] == m:\n",
    "            pattern = key\n",
    "            words.append(pattern)\n",
    "    return words\n",
    "\n",
    "def FrequencyMap(Text, k):\n",
    "    freq = {}\n",
    "    n = len(Text)\n",
    "    for i in range(n-k+1):\n",
    "        pattern = Text[i:i+k]\n",
    "        if pattern not in freq.keys():\n",
    "            freq[pattern] = 1\n",
    "        else:\n",
    "            freq[pattern] += 1\n",
    "    return freq\n",
    "\n",
    "print(FrequentWords(lines[0], 5))"
   ]
  },
  {
   "cell_type": "markdown",
   "metadata": {},
   "source": [
    "## HYPOTHESIS: Covid19 has 29903 nitrogenous bases. The most frequent 5-mer genomic sequences are 'ttaaa' and 'aaatt', 95 times each one of them. Also, 'ttatg' and 'tggtg', 92 times each one of them. Those frequencies together represent around 1870 nitrogenous bases. Covid19 tail: 'aaaaaaaaaaaaaaaaaaaaaaaaaaaaaaaaa'. A genetically engineered bacteria (designer tool) could just cut those Covid19 sequences off using a CRISPR-Cas9 system for example weakening the viral genome while some antiviral drugs are acting at the same time inside the body. "
   ]
  },
  {
   "cell_type": "code",
   "execution_count": 40,
   "metadata": {},
   "outputs": [],
   "source": [
    "#BioPython\n",
    "\n",
    "#from Bio.Seq import Seq\n",
    "#covid19 = Seq(element)\n",
    "#print(covid19.count(\"A\"), covid19.count(\"T\"), covid19.count(\"G\"), covid19.count(\"C\"))"
   ]
  }
 ],
 "metadata": {
  "kernelspec": {
   "display_name": "Python 3",
   "language": "python",
   "name": "python3"
  },
  "language_info": {
   "codemirror_mode": {
    "name": "ipython",
    "version": 3
   },
   "file_extension": ".py",
   "mimetype": "text/x-python",
   "name": "python",
   "nbconvert_exporter": "python",
   "pygments_lexer": "ipython3",
   "version": "3.8.2"
  }
 },
 "nbformat": 4,
 "nbformat_minor": 4
}
